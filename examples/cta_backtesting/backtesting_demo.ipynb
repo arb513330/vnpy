{
 "cells": [
  {
   "cell_type": "code",
   "execution_count": null,
   "metadata": {},
   "outputs": [],
   "source": [
    "#%%\r\n",
    "from vnpy_ctastrategy.backtesting import BacktestingEngine, OptimizationSetting\r\n",
    "from vnpy_ctastrategy.strategies.atr_rsi_strategy import (\r\n",
    "    AtrRsiStrategy,\r\n",
    ")\r\n",
    "from datetime import datetime"
   ]
  },
  {
   "cell_type": "code",
   "execution_count": null,
   "metadata": {},
   "outputs": [],
   "source": [
    "#%%\r\n",
    "engine = BacktestingEngine()\r\n",
    "engine.set_parameters(\r\n",
    "    vt_symbol=\"IF888.CFFEX\",\r\n",
    "    interval=\"1m\",\r\n",
    "    start=datetime(2019, 1, 1),\r\n",
    "    end=datetime(2019, 4, 30),\r\n",
    "    rate=0.3/10000,\r\n",
    "    slippage=0.2,\r\n",
    "    size=300,\r\n",
    "    pricetick=0.2,\r\n",
    "    capital=1_000_000,\r\n",
    ")\r\n",
    "engine.add_strategy(AtrRsiStrategy, {})"
   ]
  },
  {
   "cell_type": "code",
   "execution_count": null,
   "metadata": {},
   "outputs": [],
   "source": [
    "#%%\r\n",
    "engine.load_data()\r\n",
    "engine.run_backtesting()\r\n",
    "df = engine.calculate_result()\r\n",
    "engine.calculate_statistics()\r\n",
    "engine.show_chart()"
   ]
  },
  {
   "cell_type": "code",
   "execution_count": null,
   "metadata": {},
   "outputs": [],
   "source": [
    "setting = OptimizationSetting()\r\n",
    "setting.set_target(\"sharpe_ratio\")\r\n",
    "setting.add_parameter(\"atr_length\", 25, 27, 1)\r\n",
    "setting.add_parameter(\"atr_ma_length\", 10, 30, 10)\r\n",
    "\r\n",
    "engine.run_ga_optimization(setting)"
   ]
  },
  {
   "cell_type": "code",
   "execution_count": null,
   "metadata": {},
   "outputs": [],
   "source": [
    "engine.run_bf_optimization(setting)"
   ]
  },
  {
   "cell_type": "code",
   "execution_count": null,
   "metadata": {},
   "outputs": [],
   "source": []
  }
 ],
 "metadata": {
  "kernelspec": {
   "display_name": "Python 3",
   "language": "python",
   "name": "python3"
  },
  "language_info": {
   "codemirror_mode": {
    "name": "ipython",
    "version": 3
   },
   "file_extension": ".py",
   "mimetype": "text/x-python",
   "name": "python",
   "nbconvert_exporter": "python",
   "pygments_lexer": "ipython3",
   "version": "3.8.3"
  }
 },
 "nbformat": 4,
 "nbformat_minor": 4
}
